{
  "cells": [
    {
      "cell_type": "markdown",
      "metadata": {
        "id": "view-in-github",
        "colab_type": "text"
      },
      "source": [
        "<a href=\"https://colab.research.google.com/github/Sankytanky100/Data-Engineering/blob/main/Analyzing_Wikipedia_Clickstreams_with_PySpark_in_Google_Colab.ipynb\" target=\"_parent\"><img src=\"https://colab.research.google.com/assets/colab-badge.svg\" alt=\"Open In Colab\"/></a>"
      ]
    },
    {
      "cell_type": "code",
      "source": [
        "# Install Java\n",
        "!apt-get install openjdk-8-jdk-headless -qq > /dev/null\n",
        "\n",
        "# Install PySpark\n",
        "!pip install pyspark\n",
        "\n",
        "# Install findspark to locate Spark in the system\n",
        "!pip install --quiet findspark\n"
      ],
      "metadata": {
        "colab": {
          "base_uri": "https://localhost:8080/"
        },
        "id": "mQzTdDNZ_4Nb",
        "outputId": "01d83d70-a8c3-42c3-c3b7-227e13d464e3"
      },
      "execution_count": 1,
      "outputs": [
        {
          "output_type": "stream",
          "name": "stdout",
          "text": [
            "Requirement already satisfied: pyspark in /usr/local/lib/python3.10/dist-packages (3.5.3)\n",
            "Requirement already satisfied: py4j==0.10.9.7 in /usr/local/lib/python3.10/dist-packages (from pyspark) (0.10.9.7)\n"
          ]
        }
      ]
    },
    {
      "cell_type": "code",
      "source": [
        "# Check Java version\n",
        "!java -version\n",
        "\n",
        "# Check PySpark version\n",
        "!pyspark --version\n"
      ],
      "metadata": {
        "colab": {
          "base_uri": "https://localhost:8080/"
        },
        "id": "rVBm6awO_6o4",
        "outputId": "56861002-2d98-493d-e51f-affcfc74f36a"
      },
      "execution_count": 2,
      "outputs": [
        {
          "output_type": "stream",
          "name": "stdout",
          "text": [
            "openjdk version \"11.0.25\" 2024-10-15\n",
            "OpenJDK Runtime Environment (build 11.0.25+9-post-Ubuntu-1ubuntu122.04)\n",
            "OpenJDK 64-Bit Server VM (build 11.0.25+9-post-Ubuntu-1ubuntu122.04, mixed mode, sharing)\n",
            "Welcome to\n",
            "      ____              __\n",
            "     / __/__  ___ _____/ /__\n",
            "    _\\ \\/ _ \\/ _ `/ __/  '_/\n",
            "   /___/ .__/\\_,_/_/ /_/\\_\\   version 3.5.3\n",
            "      /_/\n",
            "                        \n",
            "Using Scala version 2.12.18, OpenJDK 64-Bit Server VM, 11.0.25\n",
            "Branch HEAD\n",
            "Compiled by user haejoon.lee on 2024-09-09T05:20:05Z\n",
            "Revision 32232e9ed33bb16b93ad58cfde8b82e0f07c0970\n",
            "Url https://github.com/apache/spark\n",
            "Type --help for more information.\n"
          ]
        }
      ]
    },
    {
      "cell_type": "code",
      "source": [
        "from pyspark.sql import SparkSession\n",
        "import findspark\n",
        "findspark.init()\n",
        "\n",
        "# Create a SparkSession\n",
        "spark = SparkSession.builder \\\n",
        "    .appName(\"Wikipedia Clickstream Analysis\") \\\n",
        "    .getOrCreate()\n",
        "\n",
        "# Verify the SparkSession\n",
        "print(\"SparkSession created successfully.\")\n",
        "\n"
      ],
      "metadata": {
        "colab": {
          "base_uri": "https://localhost:8080/"
        },
        "id": "LmXq0Fdc_79d",
        "outputId": "92b8cf94-d51f-42ab-91c9-59961e3c1208"
      },
      "execution_count": 3,
      "outputs": [
        {
          "output_type": "stream",
          "name": "stdout",
          "text": [
            "SparkSession created successfully.\n"
          ]
        }
      ]
    },
    {
      "cell_type": "code",
      "source": [
        "# Sample clickstream data\n",
        "sample_clickstream_counts = [\n",
        "    [\"other-search\", \"Hanging_Gardens_of_Babylon\", \"external\", 47000],\n",
        "    [\"other-empty\", \"Hanging_Gardens_of_Babylon\", \"external\", 34600],\n",
        "    [\"Wonders_of_the_World\", \"Hanging_Gardens_of_Babylon\", \"link\", 14600],\n",
        "    [\"Babylon\", \"Hanging_Gardens_of_Babylon\", \"link\", 2500]\n",
        "]\n",
        "\n",
        "# Create an RDD\n",
        "rdd = spark.sparkContext.parallelize(sample_clickstream_counts)\n"
      ],
      "metadata": {
        "id": "CyemSsQFAyHj"
      },
      "execution_count": 4,
      "outputs": []
    },
    {
      "cell_type": "code",
      "source": [
        "# Define column names\n",
        "columns = [\"source_page\", \"target_page\", \"link_category\", \"link_count\"]\n",
        "\n",
        "# Create DataFrame from RDD\n",
        "clickstream_sample_df = rdd.toDF(columns)\n",
        "\n",
        "# Display the DataFrame\n",
        "clickstream_sample_df.show()\n"
      ],
      "metadata": {
        "colab": {
          "base_uri": "https://localhost:8080/"
        },
        "id": "pTpsP-yCA4N7",
        "outputId": "6d3bf4c8-b9dd-4ed4-f48a-65cfd4f98617"
      },
      "execution_count": 5,
      "outputs": [
        {
          "output_type": "stream",
          "name": "stdout",
          "text": [
            "+--------------------+--------------------+-------------+----------+\n",
            "|         source_page|         target_page|link_category|link_count|\n",
            "+--------------------+--------------------+-------------+----------+\n",
            "|        other-search|Hanging_Gardens_o...|     external|     47000|\n",
            "|         other-empty|Hanging_Gardens_o...|     external|     34600|\n",
            "|Wonders_of_the_World|Hanging_Gardens_o...|         link|     14600|\n",
            "|             Babylon|Hanging_Gardens_o...|         link|      2500|\n",
            "+--------------------+--------------------+-------------+----------+\n",
            "\n"
          ]
        }
      ]
    },
    {
      "cell_type": "code",
      "source": [
        "# Download the clickstream data\n",
        "!wget -q -P ./clickstream_data/ https://dumps.wikimedia.org/other/clickstream/2018-01/clickstream-enwiki-2018-01.tsv.gz\n",
        "\n",
        "# Unzip the data\n",
        "!gunzip ./clickstream_data/clickstream-enwiki-2018-01.tsv.gz\n",
        "\n",
        "# Path to the data file\n",
        "data_file = \"./clickstream_data/clickstream-enwiki-2018-01.tsv\"\n",
        "\n",
        "# Read the data into a DataFrame\n",
        "clickstream = spark.read.csv(data_file, sep='\\t', header=False)\n",
        "\n",
        "# Assign column names\n",
        "clickstream = clickstream.toDF(\"prev\", \"curr\", \"type\", \"n\")\n",
        "\n",
        "# Display the first few rows\n",
        "clickstream.show(5)\n"
      ],
      "metadata": {
        "colab": {
          "base_uri": "https://localhost:8080/"
        },
        "id": "Q7xSqTAwA7jG",
        "outputId": "7abd2244-6c7a-4766-90a8-d8a16b42c3a8"
      },
      "execution_count": 6,
      "outputs": [
        {
          "output_type": "stream",
          "name": "stdout",
          "text": [
            "+--------------------+--------------------+--------+---+\n",
            "|                prev|                curr|    type|  n|\n",
            "+--------------------+--------------------+--------+---+\n",
            "|         other-empty|2013–14_Croatian_...|external| 30|\n",
            "|                TACV|   TACV_destinations|    link|501|\n",
            "|Femme_Fatales_(ma...|      Brinke_Stevens|    link| 18|\n",
            "|        other-search|   TACV_destinations|external| 18|\n",
            "|      Linnea_Quigley|      Brinke_Stevens|    link| 46|\n",
            "+--------------------+--------------------+--------+---+\n",
            "only showing top 5 rows\n",
            "\n"
          ]
        }
      ]
    },
    {
      "cell_type": "code",
      "source": [
        "\n",
        "# Print the schema\n",
        "clickstream.printSchema()\n"
      ],
      "metadata": {
        "colab": {
          "base_uri": "https://localhost:8080/"
        },
        "id": "EdqMGmb_jwLa",
        "outputId": "8ae55ee8-da41-450e-e704-fe28f08ab74b"
      },
      "execution_count": 7,
      "outputs": [
        {
          "output_type": "stream",
          "name": "stdout",
          "text": [
            "root\n",
            " |-- prev: string (nullable = true)\n",
            " |-- curr: string (nullable = true)\n",
            " |-- type: string (nullable = true)\n",
            " |-- n: string (nullable = true)\n",
            "\n"
          ]
        }
      ]
    },
    {
      "cell_type": "code",
      "source": [
        "# Rename columns\n",
        "clickstream = clickstream.withColumnRenamed(\"prev\", \"source_page\") \\\n",
        "                         .withColumnRenamed(\"curr\", \"target_page\") \\\n",
        "                         .withColumnRenamed(\"type\", \"link_category\") \\\n",
        "                         .withColumnRenamed(\"n\", \"click_count\")\n",
        "\n",
        "# Display the DataFrame\n",
        "clickstream.show(5)\n",
        "\n",
        "# Print the schema\n",
        "clickstream.printSchema()\n"
      ],
      "metadata": {
        "id": "yc-gZxcuJNH3",
        "colab": {
          "base_uri": "https://localhost:8080/"
        },
        "outputId": "4ed393ee-a12c-473e-ecfa-6e0cf1cb0222"
      },
      "execution_count": 8,
      "outputs": [
        {
          "output_type": "stream",
          "name": "stdout",
          "text": [
            "+--------------------+--------------------+-------------+-----------+\n",
            "|         source_page|         target_page|link_category|click_count|\n",
            "+--------------------+--------------------+-------------+-----------+\n",
            "|         other-empty|2013–14_Croatian_...|     external|         30|\n",
            "|                TACV|   TACV_destinations|         link|        501|\n",
            "|Femme_Fatales_(ma...|      Brinke_Stevens|         link|         18|\n",
            "|        other-search|   TACV_destinations|     external|         18|\n",
            "|      Linnea_Quigley|      Brinke_Stevens|         link|         46|\n",
            "+--------------------+--------------------+-------------+-----------+\n",
            "only showing top 5 rows\n",
            "\n",
            "root\n",
            " |-- source_page: string (nullable = true)\n",
            " |-- target_page: string (nullable = true)\n",
            " |-- link_category: string (nullable = true)\n",
            " |-- click_count: string (nullable = true)\n",
            "\n"
          ]
        }
      ]
    },
    {
      "cell_type": "code",
      "source": [
        "# Register the DataFrame as a temporary view\n",
        "clickstream.createOrReplaceTempView(\"clickstream\")\n"
      ],
      "metadata": {
        "id": "CsVD-uyHJPnB"
      },
      "execution_count": 9,
      "outputs": []
    },
    {
      "cell_type": "code",
      "source": [
        "# Filter and order using DataFrame methods\n",
        "hg_df = clickstream.filter(clickstream.target_page == \"Hanging_Gardens_of_Babylon\") \\\n",
        "                   .orderBy(clickstream.click_count.desc())\n",
        "\n",
        "# Display the results\n",
        "hg_df.show()\n"
      ],
      "metadata": {
        "colab": {
          "base_uri": "https://localhost:8080/"
        },
        "id": "GFmzsVuIj1Gy",
        "outputId": "1b5873fb-f27a-4cef-e98b-3cd4788d9753"
      },
      "execution_count": 10,
      "outputs": [
        {
          "output_type": "stream",
          "name": "stdout",
          "text": [
            "+--------------------+--------------------+-------------+-----------+\n",
            "|         source_page|         target_page|link_category|click_count|\n",
            "+--------------------+--------------------+-------------+-----------+\n",
            "|Great_Pyramid_of_...|Hanging_Gardens_o...|         link|         81|\n",
            "|         Mesopotamia|Hanging_Gardens_o...|         link|         75|\n",
            "|         Engineering|Hanging_Gardens_o...|         link|         64|\n",
            "|     Amytis_of_Media|Hanging_Gardens_o...|         link|         60|\n",
            "|List_of_destroyed...|Hanging_Gardens_o...|         link|         59|\n",
            "|    Botanical_garden|Hanging_Gardens_o...|         link|         55|\n",
            "|Lighthouse_of_Ale...|Hanging_Gardens_o...|         link|         53|\n",
            "|    Stephanie_Dalley|Hanging_Gardens_o...|         link|         52|\n",
            "|Mausoleum_at_Hali...|Hanging_Gardens_o...|         link|         50|\n",
            "|      Tower_of_Babel|Hanging_Gardens_o...|         link|        476|\n",
            "|        other-search|Hanging_Gardens_o...|     external|      47088|\n",
            "|   Nebuchadnezzar_II|Hanging_Gardens_o...|        other|         44|\n",
            "|Hanging_garden_(c...|Hanging_Gardens_o...|         link|         42|\n",
            "|Terrace_(agricult...|Hanging_Gardens_o...|         link|         40|\n",
            "|History_of_gardening|Hanging_Gardens_o...|         link|         37|\n",
            "|      Hanging_Garden|Hanging_Gardens_o...|         link|         37|\n",
            "|Statue_of_Zeus_at...|Hanging_Gardens_o...|         link|         35|\n",
            "|          Bilge_pump|Hanging_Gardens_o...|         link|         35|\n",
            "|         other-empty|Hanging_Gardens_o...|     external|      34619|\n",
            "|  Antipater_of_Sidon|Hanging_Gardens_o...|         link|         31|\n",
            "+--------------------+--------------------+-------------+-----------+\n",
            "only showing top 20 rows\n",
            "\n"
          ]
        }
      ]
    },
    {
      "cell_type": "code",
      "source": [
        "# SQL query\n",
        "hg_sql = spark.sql(\"\"\"\n",
        "    SELECT source_page, target_page, link_category, click_count\n",
        "    FROM clickstream\n",
        "    WHERE target_page = 'Hanging_Gardens_of_Babylon'\n",
        "    ORDER BY click_count DESC\n",
        "\"\"\")\n",
        "\n",
        "# Display the results\n",
        "hg_sql.show()\n",
        "\n",
        "# Import necessary libraries\n",
        "from pyspark.sql.types import IntegerType\n",
        "from pyspark.sql.functions import col\n",
        "\n",
        "# Cast 'click_count' to IntegerType\n",
        "clickstream = clickstream.withColumn(\"click_count\", col(\"click_count\").cast(IntegerType()))"
      ],
      "metadata": {
        "id": "fuMjHVIWJx48",
        "colab": {
          "base_uri": "https://localhost:8080/"
        },
        "outputId": "4d845f2a-ffd4-43ff-aa08-8ee2d53a4d96"
      },
      "execution_count": 13,
      "outputs": [
        {
          "output_type": "stream",
          "name": "stdout",
          "text": [
            "+--------------------+--------------------+-------------+-----------+\n",
            "|         source_page|         target_page|link_category|click_count|\n",
            "+--------------------+--------------------+-------------+-----------+\n",
            "|Great_Pyramid_of_...|Hanging_Gardens_o...|         link|         81|\n",
            "|         Mesopotamia|Hanging_Gardens_o...|         link|         75|\n",
            "|         Engineering|Hanging_Gardens_o...|         link|         64|\n",
            "|     Amytis_of_Media|Hanging_Gardens_o...|         link|         60|\n",
            "|List_of_destroyed...|Hanging_Gardens_o...|         link|         59|\n",
            "|    Botanical_garden|Hanging_Gardens_o...|         link|         55|\n",
            "|Lighthouse_of_Ale...|Hanging_Gardens_o...|         link|         53|\n",
            "|    Stephanie_Dalley|Hanging_Gardens_o...|         link|         52|\n",
            "|Mausoleum_at_Hali...|Hanging_Gardens_o...|         link|         50|\n",
            "|      Tower_of_Babel|Hanging_Gardens_o...|         link|        476|\n",
            "|        other-search|Hanging_Gardens_o...|     external|      47088|\n",
            "|   Nebuchadnezzar_II|Hanging_Gardens_o...|        other|         44|\n",
            "|Hanging_garden_(c...|Hanging_Gardens_o...|         link|         42|\n",
            "|Terrace_(agricult...|Hanging_Gardens_o...|         link|         40|\n",
            "|History_of_gardening|Hanging_Gardens_o...|         link|         37|\n",
            "|      Hanging_Garden|Hanging_Gardens_o...|         link|         37|\n",
            "|Statue_of_Zeus_at...|Hanging_Gardens_o...|         link|         35|\n",
            "|          Bilge_pump|Hanging_Gardens_o...|         link|         35|\n",
            "|         other-empty|Hanging_Gardens_o...|     external|      34619|\n",
            "|  Antipater_of_Sidon|Hanging_Gardens_o...|         link|         31|\n",
            "+--------------------+--------------------+-------------+-----------+\n",
            "only showing top 20 rows\n",
            "\n"
          ]
        }
      ]
    },
    {
      "cell_type": "code",
      "source": [
        "\n",
        "# Group by link_category and sum click_count\n",
        "link_category_counts_df = clickstream.groupBy(\"link_category\") \\\n",
        "                                     .sum(\"click_count\") \\\n",
        "                                     .orderBy(\"sum(click_count)\", ascending=False)\n",
        "\n",
        "# Display the results\n",
        "link_category_counts_df.show()\n"
      ],
      "metadata": {
        "id": "mW-4xUBXKBTb",
        "colab": {
          "base_uri": "https://localhost:8080/"
        },
        "outputId": "641270bf-6e24-4a30-b459-6d028919fb87"
      },
      "execution_count": 14,
      "outputs": [
        {
          "output_type": "stream",
          "name": "stdout",
          "text": [
            "+-------------+----------------+\n",
            "|link_category|sum(click_count)|\n",
            "+-------------+----------------+\n",
            "|     external|      6203240927|\n",
            "|         link|      1368426718|\n",
            "|        other|        51398287|\n",
            "|         NULL|            NULL|\n",
            "+-------------+----------------+\n",
            "\n"
          ]
        }
      ]
    },
    {
      "cell_type": "code",
      "source": [
        "# SQL query\n",
        "link_category_counts_sql = spark.sql(\"\"\"\n",
        "    SELECT link_category, SUM(click_count) AS total_clicks\n",
        "    FROM clickstream\n",
        "    GROUP BY link_category\n",
        "    ORDER BY total_clicks DESC\n",
        "\"\"\")\n",
        "\n",
        "# Display the results\n",
        "link_category_counts_sql.show()\n"
      ],
      "metadata": {
        "id": "L0rLaPARKDKd",
        "colab": {
          "base_uri": "https://localhost:8080/"
        },
        "outputId": "e196afc0-64ab-454d-cbf1-8ef73a1f6f5d"
      },
      "execution_count": 15,
      "outputs": [
        {
          "output_type": "stream",
          "name": "stdout",
          "text": [
            "+-------------+-------------+\n",
            "|link_category| total_clicks|\n",
            "+-------------+-------------+\n",
            "|     external|6.203240927E9|\n",
            "|         link|1.368426718E9|\n",
            "|        other|  5.1398287E7|\n",
            "|         NULL|         NULL|\n",
            "+-------------+-------------+\n",
            "\n"
          ]
        }
      ]
    },
    {
      "cell_type": "code",
      "source": [
        "# Filter and select required columns\n",
        "internal_clickstream = clickstream.filter(clickstream.link_category == \"link\") \\\n",
        "                                  .select(\"source_page\", \"target_page\", \"click_count\")\n",
        "\n",
        "# Display the DataFrame\n",
        "internal_clickstream.show(5)\n",
        "\n",
        "# Print the schema\n",
        "internal_clickstream.printSchema()\n"
      ],
      "metadata": {
        "id": "mAh6BWwZKGj2",
        "colab": {
          "base_uri": "https://localhost:8080/"
        },
        "outputId": "5e225691-399d-4c9c-8dc1-354333822afa"
      },
      "execution_count": 16,
      "outputs": [
        {
          "output_type": "stream",
          "name": "stdout",
          "text": [
            "+--------------------+-----------------+-----------+\n",
            "|         source_page|      target_page|click_count|\n",
            "+--------------------+-----------------+-----------+\n",
            "|                TACV|TACV_destinations|        501|\n",
            "|Femme_Fatales_(ma...|   Brinke_Stevens|         18|\n",
            "|      Linnea_Quigley|   Brinke_Stevens|         46|\n",
            "|  List_of_cosplayers|   Brinke_Stevens|         10|\n",
            "|        Emmanuelle_4|   Brinke_Stevens|         27|\n",
            "+--------------------+-----------------+-----------+\n",
            "only showing top 5 rows\n",
            "\n",
            "root\n",
            " |-- source_page: string (nullable = true)\n",
            " |-- target_page: string (nullable = true)\n",
            " |-- click_count: integer (nullable = true)\n",
            "\n"
          ]
        }
      ]
    },
    {
      "cell_type": "code",
      "source": [
        "# Save as CSV\n",
        "internal_clickstream.write.csv(\"./results/article_to_article_csv/\", header=True)\n",
        "\n",
        "print(\"DataFrame saved as CSV in './results/article_to_article_csv/'.\")\n"
      ],
      "metadata": {
        "id": "KXmWGWM8J9Qu",
        "colab": {
          "base_uri": "https://localhost:8080/"
        },
        "outputId": "6302d920-5020-4ce1-ebb4-bfd5918211ac"
      },
      "execution_count": 17,
      "outputs": [
        {
          "output_type": "stream",
          "name": "stdout",
          "text": [
            "DataFrame saved as CSV in './results/article_to_article_csv/'.\n"
          ]
        }
      ]
    },
    {
      "cell_type": "code",
      "source": [
        "# Save as Parquet\n",
        "internal_clickstream.write.parquet(\"./results/article_to_article_pq/\")\n",
        "\n",
        "print(\"DataFrame saved as Parquet in './results/article_to_article_pq/'.\")\n"
      ],
      "metadata": {
        "id": "OAOBNV47KiuQ",
        "colab": {
          "base_uri": "https://localhost:8080/"
        },
        "outputId": "c8763774-c3de-4ac5-bce6-a8f1d89fab2e"
      },
      "execution_count": 18,
      "outputs": [
        {
          "output_type": "stream",
          "name": "stdout",
          "text": [
            "DataFrame saved as Parquet in './results/article_to_article_pq/'.\n"
          ]
        }
      ]
    },
    {
      "cell_type": "code",
      "source": [
        "# Stop the SparkSession\n",
        "spark.stop()\n",
        "\n",
        "print(\"SparkSession stopped.\")\n"
      ],
      "metadata": {
        "id": "n-GaWO09KlmH",
        "colab": {
          "base_uri": "https://localhost:8080/"
        },
        "outputId": "bbddde8b-a03f-426c-cbb4-a2574ed48e90"
      },
      "execution_count": 19,
      "outputs": [
        {
          "output_type": "stream",
          "name": "stdout",
          "text": [
            "SparkSession stopped.\n"
          ]
        }
      ]
    }
  ],
  "metadata": {
    "colab": {
      "provenance": [],
      "gpuType": "T4",
      "include_colab_link": true
    },
    "kernelspec": {
      "display_name": "Python 3",
      "name": "python3"
    },
    "accelerator": "GPU"
  },
  "nbformat": 4,
  "nbformat_minor": 0
}