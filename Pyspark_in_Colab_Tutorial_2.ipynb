{
  "cells": [
    {
      "cell_type": "markdown",
      "metadata": {
        "id": "view-in-github",
        "colab_type": "text"
      },
      "source": [
        "<a href=\"https://colab.research.google.com/github/Sankytanky100/Data-Engineering/blob/main/Pyspark_in_Colab_Tutorial_2.ipynb\" target=\"_parent\"><img src=\"https://colab.research.google.com/assets/colab-badge.svg\" alt=\"Open In Colab\"/></a>"
      ]
    },
    {
      "cell_type": "code",
      "source": [
        "# Install Java\n",
        "!apt-get install openjdk-8-jdk-headless -qq > /dev/null\n",
        "\n",
        "# Install PySpark\n",
        "!pip install pyspark\n"
      ],
      "metadata": {
        "colab": {
          "base_uri": "https://localhost:8080/"
        },
        "id": "mQzTdDNZ_4Nb",
        "outputId": "a8a0be8a-8e41-4eb9-96bc-bff691041740"
      },
      "execution_count": 1,
      "outputs": [
        {
          "output_type": "stream",
          "name": "stdout",
          "text": [
            "Requirement already satisfied: pyspark in /usr/local/lib/python3.10/dist-packages (3.5.3)\n",
            "Requirement already satisfied: py4j==0.10.9.7 in /usr/local/lib/python3.10/dist-packages (from pyspark) (0.10.9.7)\n"
          ]
        }
      ]
    },
    {
      "cell_type": "code",
      "source": [
        "# Check Java version\n",
        "!java -version\n",
        "\n",
        "# Check PySpark version\n",
        "!pyspark --version\n"
      ],
      "metadata": {
        "colab": {
          "base_uri": "https://localhost:8080/"
        },
        "id": "rVBm6awO_6o4",
        "outputId": "2bcb16a2-938a-4ce8-f80e-a9820436fe83"
      },
      "execution_count": 2,
      "outputs": [
        {
          "output_type": "stream",
          "name": "stdout",
          "text": [
            "openjdk version \"11.0.25\" 2024-10-15\n",
            "OpenJDK Runtime Environment (build 11.0.25+9-post-Ubuntu-1ubuntu122.04)\n",
            "OpenJDK 64-Bit Server VM (build 11.0.25+9-post-Ubuntu-1ubuntu122.04, mixed mode, sharing)\n",
            "Welcome to\n",
            "      ____              __\n",
            "     / __/__  ___ _____/ /__\n",
            "    _\\ \\/ _ \\/ _ `/ __/  '_/\n",
            "   /___/ .__/\\_,_/_/ /_/\\_\\   version 3.5.3\n",
            "      /_/\n",
            "                        \n",
            "Using Scala version 2.12.18, OpenJDK 64-Bit Server VM, 11.0.25\n",
            "Branch HEAD\n",
            "Compiled by user haejoon.lee on 2024-09-09T05:20:05Z\n",
            "Revision 32232e9ed33bb16b93ad58cfde8b82e0f07c0970\n",
            "Url https://github.com/apache/spark\n",
            "Type --help for more information.\n"
          ]
        }
      ]
    },
    {
      "cell_type": "code",
      "source": [
        "from pyspark.sql import SparkSession\n",
        "\n",
        "# Create a SparkSession\n",
        "spark = SparkSession.builder \\\n",
        "    .appName(\"PySpark on Google Colab\") \\\n",
        "    .getOrCreate()\n",
        "\n",
        "# Verify SparkSession\n",
        "print(\"SparkSession created:\", spark)\n"
      ],
      "metadata": {
        "colab": {
          "base_uri": "https://localhost:8080/"
        },
        "id": "LmXq0Fdc_79d",
        "outputId": "91943bb2-8a24-4114-d34c-99a40ad76ee5"
      },
      "execution_count": 3,
      "outputs": [
        {
          "output_type": "stream",
          "name": "stdout",
          "text": [
            "SparkSession created: <pyspark.sql.session.SparkSession object at 0x79f81054e800>\n"
          ]
        }
      ]
    },
    {
      "cell_type": "code",
      "source": [
        "sample_page_views  = spark.sparkContext.parallelize([\n",
        "    [\"en\", \"Statue_of_Liberty\", \"2022-01-01\", 263],\n",
        "    [\"en\", \"Replicas_of_the_Statue_of_Liberty\", \"2022-01-01\", 11],\n",
        "    [\"en\", \"Statue_of_Lucille_Ball\" ,\"2022-01-01\", 6],\n",
        "    [\"en\", \"Statue_of_Liberty_National_Monument\", \"2022-01-01\", 4],\n",
        "    [\"en\", \"Statue_of_Liberty_play\"  ,\"2022-01-01\", 3],\n",
        "])"
      ],
      "metadata": {
        "id": "CyemSsQFAyHj"
      },
      "execution_count": 6,
      "outputs": []
    },
    {
      "cell_type": "code",
      "source": [
        "sample_page_views_df = sample_page_views.toDF(\n",
        "    ['language_code', 'title', 'date', 'count']\n",
        ")\n",
        "\n",
        "# show first 5 rows\n",
        "sample_page_views_df.show(5, truncate=False)"
      ],
      "metadata": {
        "colab": {
          "base_uri": "https://localhost:8080/"
        },
        "id": "pTpsP-yCA4N7",
        "outputId": "3f3c4972-ec70-4190-cb5b-91ef3b06297b"
      },
      "execution_count": 7,
      "outputs": [
        {
          "output_type": "stream",
          "name": "stdout",
          "text": [
            "+-------------+-----------------------------------+----------+-----+\n",
            "|language_code|title                              |date      |count|\n",
            "+-------------+-----------------------------------+----------+-----+\n",
            "|en           |Statue_of_Liberty                  |2022-01-01|263  |\n",
            "|en           |Replicas_of_the_Statue_of_Liberty  |2022-01-01|11   |\n",
            "|en           |Statue_of_Lucille_Ball             |2022-01-01|6    |\n",
            "|en           |Statue_of_Liberty_National_Monument|2022-01-01|4    |\n",
            "|en           |Statue_of_Liberty_play             |2022-01-01|3    |\n",
            "+-------------+-----------------------------------+----------+-----+\n",
            "\n"
          ]
        }
      ]
    },
    {
      "cell_type": "code",
      "source": [
        "sample_page_views_rdd_restored = sample_page_views_df.rdd\n",
        "\n",
        "# show restored RDD\n",
        "sample_page_views_rdd_restored.collect()"
      ],
      "metadata": {
        "colab": {
          "base_uri": "https://localhost:8080/"
        },
        "id": "Q7xSqTAwA7jG",
        "outputId": "c28c3c02-57ad-4a4f-f561-e29e00ea11c2"
      },
      "execution_count": 8,
      "outputs": [
        {
          "output_type": "execute_result",
          "data": {
            "text/plain": [
              "[Row(language_code='en', title='Statue_of_Liberty', date='2022-01-01', count=263),\n",
              " Row(language_code='en', title='Replicas_of_the_Statue_of_Liberty', date='2022-01-01', count=11),\n",
              " Row(language_code='en', title='Statue_of_Lucille_Ball', date='2022-01-01', count=6),\n",
              " Row(language_code='en', title='Statue_of_Liberty_National_Monument', date='2022-01-01', count=4),\n",
              " Row(language_code='en', title='Statue_of_Liberty_play', date='2022-01-01', count=3)]"
            ]
          },
          "metadata": {},
          "execution_count": 8
        }
      ]
    },
    {
      "cell_type": "markdown",
      "source": [
        "**Spark DataFrames from External Sources**"
      ],
      "metadata": {
        "id": "V-OW5kr5I5n_"
      }
    },
    {
      "cell_type": "code",
      "source": [
        "wiki_uniq_df = spark\\\n",
        "    .read\\\n",
        "    .csv('wiki_uniq_march_2022.csv')\n",
        "\n",
        "# show the first 10 rows\n",
        "wiki_uniq_df.show(10, truncate=False)"
      ],
      "metadata": {
        "colab": {
          "base_uri": "https://localhost:8080/",
          "height": 391
        },
        "id": "aYT397ZcI4wa",
        "outputId": "19c85413-9f12-440f-90af-9ef2e2635963"
      },
      "execution_count": 9,
      "outputs": [
        {
          "output_type": "error",
          "ename": "AnalysisException",
          "evalue": "[PATH_NOT_FOUND] Path does not exist: file:/content/wiki_uniq_march_2022.csv.",
          "traceback": [
            "\u001b[0;31m---------------------------------------------------------------------------\u001b[0m",
            "\u001b[0;31mAnalysisException\u001b[0m                         Traceback (most recent call last)",
            "\u001b[0;32m<ipython-input-9-35c0035afe4e>\u001b[0m in \u001b[0;36m<cell line: 1>\u001b[0;34m()\u001b[0m\n\u001b[1;32m      1\u001b[0m \u001b[0mwiki_uniq_df\u001b[0m \u001b[0;34m=\u001b[0m \u001b[0mspark\u001b[0m\u001b[0;31m\\\u001b[0m\u001b[0;34m\u001b[0m\u001b[0;34m\u001b[0m\u001b[0m\n\u001b[1;32m      2\u001b[0m     \u001b[0;34m.\u001b[0m\u001b[0mread\u001b[0m\u001b[0;31m\\\u001b[0m\u001b[0;34m\u001b[0m\u001b[0;34m\u001b[0m\u001b[0m\n\u001b[0;32m----> 3\u001b[0;31m     \u001b[0;34m.\u001b[0m\u001b[0mcsv\u001b[0m\u001b[0;34m(\u001b[0m\u001b[0;34m'wiki_uniq_march_2022.csv'\u001b[0m\u001b[0;34m)\u001b[0m\u001b[0;34m\u001b[0m\u001b[0;34m\u001b[0m\u001b[0m\n\u001b[0m\u001b[1;32m      4\u001b[0m \u001b[0;34m\u001b[0m\u001b[0m\n\u001b[1;32m      5\u001b[0m \u001b[0;31m# show the first 10 rows\u001b[0m\u001b[0;34m\u001b[0m\u001b[0;34m\u001b[0m\u001b[0m\n",
            "\u001b[0;32m/usr/local/lib/python3.10/dist-packages/pyspark/sql/readwriter.py\u001b[0m in \u001b[0;36mcsv\u001b[0;34m(self, path, schema, sep, encoding, quote, escape, comment, header, inferSchema, ignoreLeadingWhiteSpace, ignoreTrailingWhiteSpace, nullValue, nanValue, positiveInf, negativeInf, dateFormat, timestampFormat, maxColumns, maxCharsPerColumn, maxMalformedLogPerPartition, mode, columnNameOfCorruptRecord, multiLine, charToEscapeQuoteEscaping, samplingRatio, enforceSchema, emptyValue, locale, lineSep, pathGlobFilter, recursiveFileLookup, modifiedBefore, modifiedAfter, unescapedQuoteHandling)\u001b[0m\n\u001b[1;32m    738\u001b[0m         \u001b[0;32mif\u001b[0m \u001b[0mtype\u001b[0m\u001b[0;34m(\u001b[0m\u001b[0mpath\u001b[0m\u001b[0;34m)\u001b[0m \u001b[0;34m==\u001b[0m \u001b[0mlist\u001b[0m\u001b[0;34m:\u001b[0m\u001b[0;34m\u001b[0m\u001b[0;34m\u001b[0m\u001b[0m\n\u001b[1;32m    739\u001b[0m             \u001b[0;32massert\u001b[0m \u001b[0mself\u001b[0m\u001b[0;34m.\u001b[0m\u001b[0m_spark\u001b[0m\u001b[0;34m.\u001b[0m\u001b[0m_sc\u001b[0m\u001b[0;34m.\u001b[0m\u001b[0m_jvm\u001b[0m \u001b[0;32mis\u001b[0m \u001b[0;32mnot\u001b[0m \u001b[0;32mNone\u001b[0m\u001b[0;34m\u001b[0m\u001b[0;34m\u001b[0m\u001b[0m\n\u001b[0;32m--> 740\u001b[0;31m             \u001b[0;32mreturn\u001b[0m \u001b[0mself\u001b[0m\u001b[0;34m.\u001b[0m\u001b[0m_df\u001b[0m\u001b[0;34m(\u001b[0m\u001b[0mself\u001b[0m\u001b[0;34m.\u001b[0m\u001b[0m_jreader\u001b[0m\u001b[0;34m.\u001b[0m\u001b[0mcsv\u001b[0m\u001b[0;34m(\u001b[0m\u001b[0mself\u001b[0m\u001b[0;34m.\u001b[0m\u001b[0m_spark\u001b[0m\u001b[0;34m.\u001b[0m\u001b[0m_sc\u001b[0m\u001b[0;34m.\u001b[0m\u001b[0m_jvm\u001b[0m\u001b[0;34m.\u001b[0m\u001b[0mPythonUtils\u001b[0m\u001b[0;34m.\u001b[0m\u001b[0mtoSeq\u001b[0m\u001b[0;34m(\u001b[0m\u001b[0mpath\u001b[0m\u001b[0;34m)\u001b[0m\u001b[0;34m)\u001b[0m\u001b[0;34m)\u001b[0m\u001b[0;34m\u001b[0m\u001b[0;34m\u001b[0m\u001b[0m\n\u001b[0m\u001b[1;32m    741\u001b[0m         \u001b[0;32melif\u001b[0m \u001b[0misinstance\u001b[0m\u001b[0;34m(\u001b[0m\u001b[0mpath\u001b[0m\u001b[0;34m,\u001b[0m \u001b[0mRDD\u001b[0m\u001b[0;34m)\u001b[0m\u001b[0;34m:\u001b[0m\u001b[0;34m\u001b[0m\u001b[0;34m\u001b[0m\u001b[0m\n\u001b[1;32m    742\u001b[0m \u001b[0;34m\u001b[0m\u001b[0m\n",
            "\u001b[0;32m/usr/local/lib/python3.10/dist-packages/py4j/java_gateway.py\u001b[0m in \u001b[0;36m__call__\u001b[0;34m(self, *args)\u001b[0m\n\u001b[1;32m   1320\u001b[0m \u001b[0;34m\u001b[0m\u001b[0m\n\u001b[1;32m   1321\u001b[0m         \u001b[0manswer\u001b[0m \u001b[0;34m=\u001b[0m \u001b[0mself\u001b[0m\u001b[0;34m.\u001b[0m\u001b[0mgateway_client\u001b[0m\u001b[0;34m.\u001b[0m\u001b[0msend_command\u001b[0m\u001b[0;34m(\u001b[0m\u001b[0mcommand\u001b[0m\u001b[0;34m)\u001b[0m\u001b[0;34m\u001b[0m\u001b[0;34m\u001b[0m\u001b[0m\n\u001b[0;32m-> 1322\u001b[0;31m         return_value = get_return_value(\n\u001b[0m\u001b[1;32m   1323\u001b[0m             answer, self.gateway_client, self.target_id, self.name)\n\u001b[1;32m   1324\u001b[0m \u001b[0;34m\u001b[0m\u001b[0m\n",
            "\u001b[0;32m/usr/local/lib/python3.10/dist-packages/pyspark/errors/exceptions/captured.py\u001b[0m in \u001b[0;36mdeco\u001b[0;34m(*a, **kw)\u001b[0m\n\u001b[1;32m    183\u001b[0m                 \u001b[0;31m# Hide where the exception came from that shows a non-Pythonic\u001b[0m\u001b[0;34m\u001b[0m\u001b[0;34m\u001b[0m\u001b[0m\n\u001b[1;32m    184\u001b[0m                 \u001b[0;31m# JVM exception message.\u001b[0m\u001b[0;34m\u001b[0m\u001b[0;34m\u001b[0m\u001b[0m\n\u001b[0;32m--> 185\u001b[0;31m                 \u001b[0;32mraise\u001b[0m \u001b[0mconverted\u001b[0m \u001b[0;32mfrom\u001b[0m \u001b[0;32mNone\u001b[0m\u001b[0;34m\u001b[0m\u001b[0;34m\u001b[0m\u001b[0m\n\u001b[0m\u001b[1;32m    186\u001b[0m             \u001b[0;32melse\u001b[0m\u001b[0;34m:\u001b[0m\u001b[0;34m\u001b[0m\u001b[0;34m\u001b[0m\u001b[0m\n\u001b[1;32m    187\u001b[0m                 \u001b[0;32mraise\u001b[0m\u001b[0;34m\u001b[0m\u001b[0;34m\u001b[0m\u001b[0m\n",
            "\u001b[0;31mAnalysisException\u001b[0m: [PATH_NOT_FOUND] Path does not exist: file:/content/wiki_uniq_march_2022.csv."
          ]
        }
      ]
    },
    {
      "cell_type": "code",
      "source": [
        "# show the data types\n",
        "wiki_uniq_w_header_df.dtypes"
      ],
      "metadata": {
        "id": "yc-gZxcuJNH3"
      },
      "execution_count": null,
      "outputs": []
    },
    {
      "cell_type": "code",
      "source": [
        "wiki_uniq_w_schema_df = spark\\\n",
        "    .read\\\n",
        "    .option('header', True)\\\n",
        "    .option('inferSchema', True)\\\n",
        "    .csv('wiki_uniq_march_2022.csv')\n",
        "\n",
        "# show the data types\n",
        "wiki_uniq_w_schema_df.dtypes"
      ],
      "metadata": {
        "id": "CsVD-uyHJPnB"
      },
      "execution_count": null,
      "outputs": []
    },
    {
      "cell_type": "markdown",
      "source": [],
      "metadata": {
        "id": "63g7CiPLJxou"
      }
    },
    {
      "cell_type": "code",
      "source": [
        "spark = SparkSession \\\n",
        "    .builder \\\n",
        "    .appName(\"learning_spark_sql\") \\\n",
        "    .getOrCreate()\n",
        "\n",
        "# Read in Wikipedia Unique Visitors Dataset\n",
        "wiki_uniq_df = spark.read\\\n",
        "    .option('header', True) \\\n",
        "    .option('delimiter', ',') \\\n",
        "    .option('inferSchema', True) \\\n",
        "    .csv(\"wiki_uniq_march_2022_w_site_type.csv\")\n",
        "\n",
        "# Create a temporary view with the DataFrame\n",
        "wiki_uniq_df\\\n",
        "    .createOrReplaceTempView('uniq_visitors_march')"
      ],
      "metadata": {
        "id": "fuMjHVIWJx48"
      },
      "execution_count": null,
      "outputs": []
    },
    {
      "cell_type": "code",
      "source": [
        "uniq_views_df_desc = uniq_views_df.describe()\n",
        "\n",
        "# show summary\n",
        "uniq_views_df_desc.show()"
      ],
      "metadata": {
        "id": "mW-4xUBXKBTb"
      },
      "execution_count": null,
      "outputs": []
    },
    {
      "cell_type": "code",
      "source": [
        "uniq_counts_human_df = uniq_views_df.drop('total_visitor_count','uniq_bot_visitors')\n",
        "\n",
        "# show the first 5 rows\n",
        "uniq_counts_human_df.show(5)"
      ],
      "metadata": {
        "id": "L0rLaPARKDKd"
      },
      "execution_count": null,
      "outputs": []
    },
    {
      "cell_type": "code",
      "source": [
        "uniq_counts_final_df = uniq_counts_human_df.withColumnRenamed('uniq_human_visitors', 'unique_site_visitors')\n",
        "\n",
        "# show the first 5 rows\n",
        "uniq_counts_final_df.show(5)"
      ],
      "metadata": {
        "id": "mAh6BWwZKGj2"
      },
      "execution_count": null,
      "outputs": []
    },
    {
      "cell_type": "code",
      "source": [
        "uniq_views_df.printSchema()"
      ],
      "metadata": {
        "id": "KXmWGWM8J9Qu"
      },
      "execution_count": null,
      "outputs": []
    },
    {
      "cell_type": "code",
      "source": [
        "# Create a New SparkSession\n",
        "spark = SparkSession \\\n",
        "    .builder \\\n",
        "    .appName(\"learning_spark_sql\") \\\n",
        "    .getOrCreate()\n",
        "\n"
      ],
      "metadata": {
        "id": "OAOBNV47KiuQ"
      },
      "execution_count": null,
      "outputs": []
    },
    {
      "cell_type": "code",
      "source": [
        "ar_site_visitors = wiki_uniq_df\\\n",
        "    .filter(wiki_uniq_df.language_code == 'ar')\n",
        "\n",
        "# show the DataFrame\n",
        "ar_site_visitors.show()"
      ],
      "metadata": {
        "id": "n-GaWO09KlmH"
      },
      "execution_count": null,
      "outputs": []
    },
    {
      "cell_type": "code",
      "source": [
        "ar_visitors_slim = wiki_uniq_df\\\n",
        "    .select(['domain', 'uniq_human_visitors'])\\\n",
        "    .filter(wiki_uniq_df.language_code == 'ar')\n",
        "\n",
        "# show the DataFrame\n",
        "ar_visitors_slim.show()\n"
      ],
      "metadata": {
        "id": "kNGB2IVwKn2b"
      },
      "execution_count": null,
      "outputs": []
    },
    {
      "cell_type": "code",
      "source": [
        "top_visitors_site_type = wiki_uniq_df.select(['site_type', 'uniq_human_visitors'])\\\n",
        "    .groupBy('site_type')\\\n",
        "    .sum()\\\n",
        "    .orderBy('sum(uniq_human_visitors)', ascending=False)\n",
        "\n",
        "# show the DataFrame\n",
        "top_visitors_site_type.show()"
      ],
      "metadata": {
        "id": "S5bVJ-b-KppM"
      },
      "execution_count": null,
      "outputs": []
    },
    {
      "cell_type": "markdown",
      "source": [
        "**Querying SQL & Saving Data Frames with PySpark**"
      ],
      "metadata": {
        "id": "i2wz09YTK7WO"
      }
    },
    {
      "cell_type": "code",
      "source": [
        "ar_site_visitors_qry = \"\"\"\n",
        "    SELECT * FROM uniq_visitors_march\n",
        "    WHERE language_code = 'ar';\n",
        "\"\"\"\n",
        "\n",
        "# show the DataFrame\n",
        "spark\\\n",
        "    .sql(ar_site_visitors_qry)\\\n",
        "    .show(truncate=False)"
      ],
      "metadata": {
        "id": "hAWXgGRZLG91"
      },
      "execution_count": null,
      "outputs": []
    },
    {
      "cell_type": "code",
      "source": [
        "ar_site_visitors_slim_qry = \"\"\"\n",
        "    SELECT domain, uniq_human_visitors\n",
        "    FROM uniq_visitors_march\n",
        "    WHERE language_code = 'ar';\n",
        "\"\"\"\n",
        "\n",
        "# show the DataFrame\n",
        "spark\\\n",
        "    .sql(ar_site_visitors_slim_qry)\\\n",
        "    .show(truncate=False)"
      ],
      "metadata": {
        "id": "GOaub0RoLIye"
      },
      "execution_count": null,
      "outputs": []
    },
    {
      "cell_type": "code",
      "source": [
        "site_top_type_qry = \"\"\"\n",
        "    SELECT site_type, SUM(uniq_human_visitors)\n",
        "    FROM uniq_visitors_march\n",
        "    GROUP BY site_type\n",
        "    ORDER BY SUM(uniq_human_visitors) DESC;\n",
        "\"\"\"\n",
        "\n",
        "# show the DataFrame\n",
        "spark\\\n",
        "    .sql(site_top_type_qry)\\\n",
        "    .show(truncate=False)"
      ],
      "metadata": {
        "id": "GRF7YTehLKUy"
      },
      "execution_count": null,
      "outputs": []
    },
    {
      "cell_type": "code",
      "source": [
        "uniq_human_visitors_df = wiki_uniq_df\\\n",
        "    .select('domain', 'uniq_human_visitors')\n",
        "\n",
        "# show the new DataFrame\n",
        "uniq_human_visitors_df.show()"
      ],
      "metadata": {
        "id": "e2KXjuX8Lhv5"
      },
      "execution_count": null,
      "outputs": []
    },
    {
      "cell_type": "code",
      "source": [
        "uniq_human_visitors_df\\\n",
        "    .write.csv('./results/csv/uniq_human_visitors/',  mode=\"overwrite\")"
      ],
      "metadata": {
        "id": "Slw0kZ6SLkSK"
      },
      "execution_count": null,
      "outputs": []
    },
    {
      "cell_type": "code",
      "source": [
        "uniq_human_visitors_df\\\n",
        "    .write.parquet('./results/pq/uniq_human_visitors/', mode=\"overwrite\")"
      ],
      "metadata": {
        "id": "VqIUmbE8Ll47"
      },
      "execution_count": null,
      "outputs": []
    },
    {
      "cell_type": "code",
      "source": [
        "spark.stop()\n"
      ],
      "metadata": {
        "id": "mik-XWtgAC0z"
      },
      "execution_count": null,
      "outputs": []
    }
  ],
  "metadata": {
    "colab": {
      "provenance": [],
      "gpuType": "T4",
      "include_colab_link": true
    },
    "kernelspec": {
      "display_name": "Python 3",
      "name": "python3"
    },
    "accelerator": "GPU"
  },
  "nbformat": 4,
  "nbformat_minor": 0
}